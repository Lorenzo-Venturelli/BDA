{
 "cells": [
  {
   "cell_type": "code",
   "execution_count": 21,
   "metadata": {},
   "outputs": [],
   "source": [
    "import pandas as pd\n",
    "from sklearn.preprocessing import OrdinalEncoder"
   ]
  },
  {
   "cell_type": "code",
   "execution_count": 25,
   "metadata": {},
   "outputs": [],
   "source": [
    "mushrooms = pd.read_csv('agaricus-lepiota.data', header = None)\n",
    "mushrooms = mushrooms.dropna()\n",
    "\n",
    "# Ordinal encoding\n",
    "ordinal_encoder = OrdinalEncoder()\n",
    "mushrooms_encoded = ordinal_encoder.fit_transform(mushrooms)\n",
    "mushrooms_encoded = pd.DataFrame(mushrooms_encoded)"
   ]
  },
  {
   "cell_type": "code",
   "execution_count": 26,
   "metadata": {},
   "outputs": [
    {
     "name": "stdout",
     "output_type": "stream",
     "text": [
      "Decision Tree Accuracy: 0.93 (+/- 0.20)\n",
      "K-Nearest Neighbors Accuracy: 0.88 (+/- 0.27)\n",
      "SVM Accuracy: 0.84 (+/- 0.37)\n"
     ]
    }
   ],
   "source": [
    "from sklearn.tree import DecisionTreeClassifier\n",
    "from sklearn.neighbors import KNeighborsClassifier\n",
    "from sklearn.svm import SVC\n",
    "from sklearn.model_selection import cross_val_score\n",
    "\n",
    "# Predict the first column (edible or poisonous) using the other columns with a decision tree\n",
    "X = mushrooms_encoded.iloc[:, 1:]\n",
    "y = mushrooms_encoded.iloc[:, 0]\n",
    "\n",
    "dt = DecisionTreeClassifier()\n",
    "dt_scores = cross_val_score(dt, X, y, cv = 5)\n",
    "print('Decision Tree Accuracy: %0.2f (+/- %0.2f)' % (dt_scores.mean(), dt_scores.std() * 2))\n",
    "\n",
    "\n",
    "knn = KNeighborsClassifier()\n",
    "knn_scores = cross_val_score(knn, X, y, cv = 5)\n",
    "print('K-Nearest Neighbors Accuracy: %0.2f (+/- %0.2f)' % (knn_scores.mean(), knn_scores.std() * 2))\n",
    "\n",
    "\n",
    "svm = SVC()\n",
    "svm_scores = cross_val_score(svm, X, y, cv = 5)\n",
    "print('SVM Accuracy: %0.2f (+/- %0.2f)' % (svm_scores.mean(), svm_scores.std() * 2))"
   ]
  },
  {
   "cell_type": "code",
   "execution_count": 30,
   "metadata": {},
   "outputs": [
    {
     "name": "stdout",
     "output_type": "stream",
     "text": [
      "Decision Tree Accuracy: 0.86 (+/- 0.27)\n",
      "K-Nearest Neighbors Accuracy: 0.84 (+/- 0.29)\n",
      "SVM Accuracy: 0.81 (+/- 0.31)\n"
     ]
    }
   ],
   "source": [
    "# Create a new dataset with only the color columns (columns 3, 9, 14, 15, 17, 20)\n",
    "mushrooms_color = mushrooms.iloc[:, [0, 3, 9, 14, 15, 17, 20]]\n",
    "\n",
    "# Ordinal encoding\n",
    "ordinal_encoder = OrdinalEncoder()\n",
    "mushrooms_color = ordinal_encoder.fit_transform(mushrooms_color)\n",
    "mushrooms_color = pd.DataFrame(mushrooms_color)\n",
    "\n",
    "X = mushrooms_color.iloc[:, 1:]\n",
    "y = mushrooms_color.iloc[:, 0]\n",
    "\n",
    "dt = DecisionTreeClassifier()\n",
    "dt_scores = cross_val_score(dt, X, y, cv = 5)\n",
    "print('Decision Tree Accuracy: %0.2f (+/- %0.2f)' % (dt_scores.mean(), dt_scores.std() * 2))\n",
    "\n",
    "\n",
    "knn = KNeighborsClassifier()\n",
    "knn_scores = cross_val_score(knn, X, y, cv = 5)\n",
    "print('K-Nearest Neighbors Accuracy: %0.2f (+/- %0.2f)' % (knn_scores.mean(), knn_scores.std() * 2))\n",
    "\n",
    "\n",
    "svm = SVC()\n",
    "svm_scores = cross_val_score(svm, X, y, cv = 5)\n",
    "print('SVM Accuracy: %0.2f (+/- %0.2f)' % (svm_scores.mean(), svm_scores.std() * 2))"
   ]
  },
  {
   "cell_type": "code",
   "execution_count": 28,
   "metadata": {},
   "outputs": [
    {
     "name": "stdout",
     "output_type": "stream",
     "text": [
      "Decision Tree Accuracy: 1.00 (+/- 0.00)\n",
      "K-Nearest Neighbors Accuracy: 0.91 (+/- 0.21)\n",
      "SVM Accuracy: 1.00 (+/- 0.00)\n"
     ]
    }
   ],
   "source": [
    "mushrooms_color_onehot = mushrooms.iloc[:, [0, 3, 9, 14, 15, 17, 20]]\n",
    "\n",
    "# One-hot encoding\n",
    "mushrooms_color_onehot = pd.get_dummies(mushrooms_color_onehot)\n",
    "\n",
    "X = mushrooms_color_onehot.iloc[:, 1:]\n",
    "y = mushrooms_color_onehot.iloc[:, 0]\n",
    "\n",
    "dt = DecisionTreeClassifier()\n",
    "dt_scores = cross_val_score(dt, X, y, cv = 5)\n",
    "print('Decision Tree Accuracy: %0.2f (+/- %0.2f)' % (dt_scores.mean(), dt_scores.std() * 2))\n",
    "\n",
    "\n",
    "knn = KNeighborsClassifier()\n",
    "knn_scores = cross_val_score(knn, X, y, cv = 5)\n",
    "print('K-Nearest Neighbors Accuracy: %0.2f (+/- %0.2f)' % (knn_scores.mean(), knn_scores.std() * 2))\n",
    "\n",
    "\n",
    "svm = SVC()\n",
    "svm_scores = cross_val_score(svm, X, y, cv = 5)\n",
    "print('SVM Accuracy: %0.2f (+/- %0.2f)' % (svm_scores.mean(), svm_scores.std() * 2))\n"
   ]
  },
  {
   "cell_type": "code",
   "execution_count": 32,
   "metadata": {},
   "outputs": [
    {
     "name": "stdout",
     "output_type": "stream",
     "text": [
      "Decision Tree Accuracy: 0.87 (+/- 0.26)\n",
      "K-Nearest Neighbors Accuracy: 0.85 (+/- 0.27)\n",
      "SVM Accuracy: 0.81 (+/- 0.29)\n"
     ]
    }
   ],
   "source": [
    "# Create a new dataset with only the color columns (columns 3, 9, 14, 15, 17, 20) + cap_surface\n",
    "mushrooms_color = mushrooms.iloc[:, [0, 2, 3, 9, 14, 15, 17, 20]]\n",
    "\n",
    "# Ordinal encoding\n",
    "ordinal_encoder = OrdinalEncoder()\n",
    "mushrooms_color = ordinal_encoder.fit_transform(mushrooms_color)\n",
    "mushrooms_color = pd.DataFrame(mushrooms_color)\n",
    "\n",
    "X = mushrooms_color.iloc[:, 1:]\n",
    "y = mushrooms_color.iloc[:, 0]\n",
    "\n",
    "dt = DecisionTreeClassifier()\n",
    "dt_scores = cross_val_score(dt, X, y, cv = 5)\n",
    "print('Decision Tree Accuracy: %0.2f (+/- %0.2f)' % (dt_scores.mean(), dt_scores.std() * 2))\n",
    "\n",
    "\n",
    "knn = KNeighborsClassifier()\n",
    "knn_scores = cross_val_score(knn, X, y, cv = 5)\n",
    "print('K-Nearest Neighbors Accuracy: %0.2f (+/- %0.2f)' % (knn_scores.mean(), knn_scores.std() * 2))\n",
    "\n",
    "\n",
    "svm = SVC()\n",
    "svm_scores = cross_val_score(svm, X, y, cv = 5)\n",
    "print('SVM Accuracy: %0.2f (+/- %0.2f)' % (svm_scores.mean(), svm_scores.std() * 2))"
   ]
  },
  {
   "cell_type": "code",
   "execution_count": 38,
   "metadata": {},
   "outputs": [
    {
     "name": "stdout",
     "output_type": "stream",
     "text": [
      "Logistic Regression Accuracy: 0.94\n"
     ]
    },
    {
     "name": "stderr",
     "output_type": "stream",
     "text": [
      "/home/lorenzo/miniconda3/envs/BDA/lib/python3.9/site-packages/sklearn/linear_model/_logistic.py:458: ConvergenceWarning: lbfgs failed to converge (status=1):\n",
      "STOP: TOTAL NO. of ITERATIONS REACHED LIMIT.\n",
      "\n",
      "Increase the number of iterations (max_iter) or scale the data as shown in:\n",
      "    https://scikit-learn.org/stable/modules/preprocessing.html\n",
      "Please also refer to the documentation for alternative solver options:\n",
      "    https://scikit-learn.org/stable/modules/linear_model.html#logistic-regression\n",
      "  n_iter_i = _check_optimize_result(\n"
     ]
    }
   ],
   "source": [
    "# Use logistic regression to predict the first column (edible or poisonous) using the other columns\n",
    "from sklearn.linear_model import LogisticRegression\n",
    "from sklearn.model_selection import train_test_split\n",
    "from sklearn.metrics import accuracy_score\n",
    "import numpy as np\n",
    "\n",
    "X = mushrooms_encoded.iloc[:, 1:]\n",
    "y = mushrooms_encoded.iloc[:, 0]\n",
    "\n",
    "X_train, X_test, y_train, y_test = train_test_split(X, y, test_size = 0.3)\n",
    "\n",
    "lr = LogisticRegression()\n",
    "lr.fit(X_train, y_train)\n",
    "y_pred = lr.predict(X_test)\n",
    "print('Logistic Regression Accuracy: %0.2f' % accuracy_score(y_test, np.round(y_pred)))\n"
   ]
  },
  {
   "cell_type": "code",
   "execution_count": 37,
   "metadata": {},
   "outputs": [
    {
     "name": "stdout",
     "output_type": "stream",
     "text": [
      "Standard Decision Tree Accuracy: 0.91 (+/- 0.24)\n",
      "Decision Tree 1 Accuracy: 0.84 (+/- 0.30)\n",
      "Decision Tree 2 Accuracy: 0.88 (+/- 0.28)\n",
      "Decision Tree 3 Accuracy: 0.89 (+/- 0.37)\n"
     ]
    }
   ],
   "source": [
    "# Valutazione di alcune configurazioni di parametri per il Decision Tree\n",
    "X = mushrooms_encoded.iloc[:, 1:]\n",
    "y = mushrooms_encoded.iloc[:, 0]\n",
    "\n",
    "dt = DecisionTreeClassifier()\n",
    "dt_scores = cross_val_score(dt, X, y, cv = 5)\n",
    "print('Standard Decision Tree Accuracy: %0.2f (+/- %0.2f)' % (dt_scores.mean(), dt_scores.std() * 2))\n",
    "\n",
    "dt = DecisionTreeClassifier(max_depth = 3, splitter = 'random', criterion = 'entropy', min_samples_split = 10, min_samples_leaf = 5)\n",
    "dt_scores = cross_val_score(dt, X, y, cv = 5)\n",
    "print('Decision Tree 1 Accuracy: %0.2f (+/- %0.2f)' % (dt_scores.mean(), dt_scores.std() * 2))\n",
    "\n",
    "dt = DecisionTreeClassifier(max_depth = 3, splitter = 'best', criterion = 'entropy', min_samples_split = 3, min_samples_leaf = 1)\n",
    "dt_scores = cross_val_score(dt, X, y, cv = 5)\n",
    "print('Decision Tree 2 Accuracy: %0.2f (+/- %0.2f)' % (dt_scores.mean(), dt_scores.std() * 2))\n",
    "\n",
    "dt = DecisionTreeClassifier(max_depth = 30, splitter = 'random', criterion = 'gini', min_samples_split = 5, min_samples_leaf = 2)\n",
    "dt_scores = cross_val_score(dt, X, y, cv = 5)\n",
    "print('Decision Tree 3 Accuracy: %0.2f (+/- %0.2f)' % (dt_scores.mean(), dt_scores.std() * 2))\n"
   ]
  },
  {
   "cell_type": "code",
   "execution_count": 39,
   "metadata": {},
   "outputs": [
    {
     "name": "stdout",
     "output_type": "stream",
     "text": [
      "K-Nearest Neighbors Accuracy: 0.90 (+/- 0.25)\n"
     ]
    }
   ],
   "source": [
    "# Create a knn model with the best parameters\n",
    "X = mushrooms_encoded.iloc[:, 1:]\n",
    "y = mushrooms_encoded.iloc[:, 0]\n",
    "\n",
    "knn = KNeighborsClassifier(n_neighbors = 5, weights = 'distance', algorithm = 'auto', leaf_size = 30, p = 1)\n",
    "knn_scores = cross_val_score(knn, X, y, cv = 5)\n",
    "print('K-Nearest Neighbors Accuracy: %0.2f (+/- %0.2f)' % (knn_scores.mean(), knn_scores.std() * 2))"
   ]
  }
 ],
 "metadata": {
  "kernelspec": {
   "display_name": "BDA",
   "language": "python",
   "name": "python3"
  },
  "language_info": {
   "codemirror_mode": {
    "name": "ipython",
    "version": 3
   },
   "file_extension": ".py",
   "mimetype": "text/x-python",
   "name": "python",
   "nbconvert_exporter": "python",
   "pygments_lexer": "ipython3",
   "version": "3.9.16"
  },
  "orig_nbformat": 4
 },
 "nbformat": 4,
 "nbformat_minor": 2
}
